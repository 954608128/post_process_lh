{
 "cells": [
  {
   "cell_type": "code",
   "execution_count": 8,
   "metadata": {},
   "outputs": [],
   "source": [
    "import os\n",
    "import numpy as np\n",
    "import shutil\n",
    "root_path = 'D:/post_process/trkers_zz/data/'\n",
    "data_list = os.listdir(root_path+'con_fra_output3/')\n",
    "for i in range(len(data_list)):\n",
    "    if data_list[i][:-11] == '20230414072511':\n",
    "        ori_path = root_path +'con_fra_output3/'+ data_list[i]\n",
    "        new_path = root_path + '20230414072511_0/'\n",
    "        shutil.copyfile(ori_path,new_path+'%04d'%i+'.csv')\n",
    "    if data_list[i][:-11] == '20230414073900':\n",
    "        if int(data_list[i][-12:-4]) <= 300:\n",
    "            ori_path = root_path +'con_fra_output3/'+ data_list[i]\n",
    "            new_path = root_path + '20230414073900_0/'\n",
    "            shutil.copyfile(ori_path,new_path+'%04d'%(i-300)+'.csv')\n",
    "        else:\n",
    "            ori_path = root_path +'con_fra_output3/'+ data_list[i]\n",
    "            new_path = root_path + '20230414073900_1/'\n",
    "            shutil.copyfile(ori_path,new_path+'%04d'%(i-400)+'.csv')\n",
    "\n",
    "    "
   ]
  }
 ],
 "metadata": {
  "kernelspec": {
   "display_name": "Python 3",
   "language": "python",
   "name": "python3"
  },
  "language_info": {
   "codemirror_mode": {
    "name": "ipython",
    "version": 3
   },
   "file_extension": ".py",
   "mimetype": "text/x-python",
   "name": "python",
   "nbconvert_exporter": "python",
   "pygments_lexer": "ipython3",
   "version": "3.6.5"
  },
  "orig_nbformat": 4
 },
 "nbformat": 4,
 "nbformat_minor": 2
}
